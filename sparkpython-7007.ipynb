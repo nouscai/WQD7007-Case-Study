{
 "cells": [
  {
   "cell_type": "code",
   "execution_count": 43,
   "id": "f3db8b88",
   "metadata": {
    "scrolled": true
   },
   "outputs": [
    {
     "name": "stdout",
     "output_type": "stream",
     "text": [
      "Requirement already satisfied: pyspark in ./anaconda3/lib/python3.11/site-packages (3.5.0)\n",
      "Requirement already satisfied: py4j==0.10.9.7 in ./anaconda3/lib/python3.11/site-packages (from pyspark) (0.10.9.7)\n",
      "+---------+------+----------+--------------------+--------------------+-------------------+\n",
      "|Review_ID|Rating|Year_Month|   Reviewer_Location|         Review_Text|             Branch|\n",
      "+---------+------+----------+--------------------+--------------------+-------------------+\n",
      "|670772142|     4|    2019-4|           Australia|If you've ever be...|Disneyland_HongKong|\n",
      "|670682799|     4|    2019-5|         Philippines|Its been a while ...|Disneyland_HongKong|\n",
      "|670623270|     4|    2019-4|United Arab Emirates|Thanks God it was...|Disneyland_HongKong|\n",
      "|670607911|     4|    2019-4|           Australia|HK Disneyland is ...|Disneyland_HongKong|\n",
      "|670607296|     4|    2019-4|      United Kingdom|the location is n...|Disneyland_HongKong|\n",
      "+---------+------+----------+--------------------+--------------------+-------------------+\n",
      "only showing top 5 rows\n",
      "\n"
     ]
    },
    {
     "name": "stderr",
     "output_type": "stream",
     "text": [
      "24/01/21 01:14:39 WARN SparkSession: Using an existing Spark session; only runtime SQL configurations will take effect.\n"
     ]
    }
   ],
   "source": [
    "!pip install pyspark\n",
    "\n",
    "from pyspark.sql import SparkSession\n",
    "\n",
    "spark = SparkSession.builder \\\n",
    "    .appName(\"Disneyland Reviews\") \\\n",
    "    .getOrCreate()\n",
    "\n",
    "file_path = '/Users/nous/Desktop/DisneylandReviews.csv'\n",
    "\n",
    "\n",
    "df = spark.read.csv(file_path, header=True, inferSchema=True)\n",
    "\n",
    "df.show(5)"
   ]
  },
  {
   "cell_type": "code",
   "execution_count": 44,
   "id": "06a7653a",
   "metadata": {},
   "outputs": [
    {
     "name": "stdout",
     "output_type": "stream",
     "text": [
      "+---------+------+----------+--------------------+--------------------+-------------------+----+-----+\n",
      "|Review_ID|Rating|Year_Month|   Reviewer_Location|         Review_Text|             Branch|Year|Month|\n",
      "+---------+------+----------+--------------------+--------------------+-------------------+----+-----+\n",
      "|670772142|     4|    2019-4|           Australia|If you've ever be...|Disneyland_HongKong|2019|    4|\n",
      "|670682799|     4|    2019-5|         Philippines|Its been a while ...|Disneyland_HongKong|2019|    5|\n",
      "|670623270|     4|    2019-4|United Arab Emirates|Thanks God it was...|Disneyland_HongKong|2019|    4|\n",
      "|670607911|     4|    2019-4|           Australia|HK Disneyland is ...|Disneyland_HongKong|2019|    4|\n",
      "|670607296|     4|    2019-4|      United Kingdom|the location is n...|Disneyland_HongKong|2019|    4|\n",
      "|670591897|     3|    2019-4|           Singapore|Have been to Disn...|Disneyland_HongKong|2019|    4|\n",
      "|670585330|     5|    2019-4|               India|Great place! Your...|Disneyland_HongKong|2019|    4|\n",
      "|670574142|     3|    2019-3|            Malaysia|Think of it as an...|Disneyland_HongKong|2019|    3|\n",
      "|670571027|     2|    2019-4|           Australia|Feel so let down ...|Disneyland_HongKong|2019|    4|\n",
      "|670570869|     5|    2019-3|               India|I can go on talki...|Disneyland_HongKong|2019|    3|\n",
      "|670443403|     5|    2019-4|       United States|Disneyland never ...|Disneyland_HongKong|2019|    4|\n",
      "|670435886|     5|    2019-4|              Canada|We spent the day ...|Disneyland_HongKong|2019|    4|\n",
      "|670376905|     4|    2019-4|           Australia|We spend two days...|Disneyland_HongKong|2019|    4|\n",
      "|670324965|     5|    2019-4|         Philippines|It was indeed the...|Disneyland_HongKong|2019|    4|\n",
      "|670274554|     5|    2018-9|           Australia|This place is HUG...|Disneyland_HongKong|2018|    9|\n",
      "|670205135|     3|    2019-1|      United Kingdom|We brought ticket...|Disneyland_HongKong|2019|    1|\n",
      "|670199487|     4|    2019-4|     Myanmar (Burma)|Its huge , not en...|Disneyland_HongKong|2019|    4|\n",
      "|670129921|     3|    2019-4|      United Kingdom|Around   60 per p...|Disneyland_HongKong|2019|    4|\n",
      "|670099231|     4|    2019-4|           Australia|It   s Disneyland...|Disneyland_HongKong|2019|    4|\n",
      "|670033848|     5|   2018-11|           Hong Kong|There is nothing ...|Disneyland_HongKong|2018|   11|\n",
      "+---------+------+----------+--------------------+--------------------+-------------------+----+-----+\n",
      "only showing top 20 rows\n",
      "\n"
     ]
    }
   ],
   "source": [
    "from pyspark.sql.functions import split\n",
    "\n",
    "split_column = split(df['Year_Month'], '-')\n",
    "\n",
    "df = df.withColumn('Year', split_column.getItem(0))\n",
    "df = df.withColumn('Month', split_column.getItem(1))\n",
    "\n",
    "df.show()"
   ]
  },
  {
   "cell_type": "code",
   "execution_count": 45,
   "id": "b0d11914",
   "metadata": {},
   "outputs": [
    {
     "name": "stdout",
     "output_type": "stream",
     "text": [
      "+---------+------+----------+-----------------+-----------+------+----+-----+\n",
      "|Review_ID|Rating|Year_Month|Reviewer_Location|Review_Text|Branch|Year|Month|\n",
      "+---------+------+----------+-----------------+-----------+------+----+-----+\n",
      "|        0|     0|         0|                0|          0|     0|   0| 2613|\n",
      "+---------+------+----------+-----------------+-----------+------+----+-----+\n",
      "\n",
      "42656\n"
     ]
    }
   ],
   "source": [
    "from pyspark.sql import SparkSession\n",
    "from pyspark.sql.functions import col, count, when, isnull\n",
    "\n",
    "# 计算每列的空值数量\n",
    "null_counts = df.select([count(when(isnull(c), c)).alias(c) for c in df.columns])\n",
    "\n",
    "# 显示空值情况\n",
    "null_counts.show()\n",
    "\n",
    "total_rows = df.count()\n",
    "print(total_rows)"
   ]
  },
  {
   "cell_type": "code",
   "execution_count": 46,
   "id": "bb207100",
   "metadata": {},
   "outputs": [
    {
     "name": "stdout",
     "output_type": "stream",
     "text": [
      "+---------+------+----------+-----------------+-----------+------+----+-----+\n",
      "|Review_ID|Rating|Year_Month|Reviewer_Location|Review_Text|Branch|Year|Month|\n",
      "+---------+------+----------+-----------------+-----------+------+----+-----+\n",
      "|        0|     0|         0|                0|          0|     0|   0|    0|\n",
      "+---------+------+----------+-----------------+-----------+------+----+-----+\n",
      "\n",
      "42656\n"
     ]
    }
   ],
   "source": [
    "df = df.withColumn(\"Year_Month\", when(df[\"Year_Month\"] == \"missing\", 0).otherwise(df[\"Year_Month\"]))\n",
    "\n",
    "\n",
    "df = df.withColumn(\"Year\", when(df[\"Year\"] == \"missing\", 0).otherwise(df[\"Year\"]))\n",
    "\n",
    "\n",
    "df = df.withColumn(\"Month\", when(df[\"Month\"].isNull(), 0).otherwise(df[\"Month\"]))\n",
    "\n",
    "\n",
    "null_counts = df.select([count(when(df[c].isNull(), c)).alias(c) for c in df.columns])\n",
    "\n",
    "\n",
    "null_counts.show()\n",
    "\n",
    "total_rows = df.count()\n",
    "\n",
    "print(total_rows)"
   ]
  },
  {
   "cell_type": "code",
   "execution_count": 47,
   "id": "a030b050",
   "metadata": {},
   "outputs": [
    {
     "name": "stdout",
     "output_type": "stream",
     "text": [
      "+---------+------+----------+--------------------+-------------------+----+-----+\n",
      "|Review_ID|Rating|Year_Month|   Reviewer_Location|             Branch|Year|Month|\n",
      "+---------+------+----------+--------------------+-------------------+----+-----+\n",
      "|670772142|     4|    2019-4|           Australia|Disneyland_HongKong|2019|    4|\n",
      "|670682799|     4|    2019-5|         Philippines|Disneyland_HongKong|2019|    5|\n",
      "|670623270|     4|    2019-4|United Arab Emirates|Disneyland_HongKong|2019|    4|\n",
      "|670607911|     4|    2019-4|           Australia|Disneyland_HongKong|2019|    4|\n",
      "|670607296|     4|    2019-4|      United Kingdom|Disneyland_HongKong|2019|    4|\n",
      "+---------+------+----------+--------------------+-------------------+----+-----+\n",
      "only showing top 5 rows\n",
      "\n"
     ]
    }
   ],
   "source": [
    "# Drop the review_text column\n",
    "df_without_review_text = df.drop('review_text')\n",
    "\n",
    "# Show the DataFrame without the review_text column\n",
    "df_without_review_text.show(5)\n",
    "\n",
    "df_without_review_text.write.csv('/Users/nous/Desktop/Disneylandhive.csv', header=True)"
   ]
  },
  {
   "cell_type": "code",
   "execution_count": 48,
   "id": "030618d9",
   "metadata": {},
   "outputs": [],
   "source": [
    "df_without_review_text.coalesce(1).write.csv('/Users/nous/Desktop/Disneylandhive1', header=True)"
   ]
  },
  {
   "cell_type": "code",
   "execution_count": 49,
   "id": "988e9977",
   "metadata": {},
   "outputs": [
    {
     "name": "stderr",
     "output_type": "stream",
     "text": [
      "24/01/21 01:15:06 WARN SparkSession: Using an existing Spark session; only runtime SQL configurations will take effect.\n",
      "                                                                                \r"
     ]
    }
   ],
   "source": [
    "from pyspark.sql import SparkSession\n",
    "from pyspark.sql.functions import col, split, concat_ws, regexp_replace\n",
    "from pyspark.ml.feature import StopWordsRemover\n",
    "\n",
    "spark = SparkSession.builder \\\n",
    "    .appName(\"Extract Review Text\") \\\n",
    "    .getOrCreate()\n",
    "\n",
    "punctuation_pattern = \"[^\\\\w\\\\s]\"\n",
    "\n",
    "review_text_df = df.withColumn(\"review_text\", regexp_replace(col(\"review_text\"), punctuation_pattern, \"\"))\n",
    "\n",
    "review_text_df = review_text_df.withColumn(\"words\", split(col(\"review_text\"), \" \"))\n",
    "\n",
    "remover = StopWordsRemover(inputCol=\"words\", outputCol=\"filtered_words\")\n",
    "\n",
    "review_text_df = remover.transform(review_text_df)\n",
    "\n",
    "review_text_df = review_text_df.withColumn(\"filtered_text\", concat_ws(\" \", \"filtered_words\"))\n",
    "\n",
    "collected_reviews = review_text_df.select(\"filtered_text\").rdd.flatMap(lambda x: x).collect()\n",
    "\n",
    "output_path = '/Users/nous/Desktop/output.txt'\n",
    "with open(output_path, 'w') as file:\n",
    "    for review in collected_reviews:\n",
    "        file.write(review + \"\\n\")"
   ]
  }
 ],
 "metadata": {
  "kernelspec": {
   "display_name": "Python 3 (ipykernel)",
   "language": "python",
   "name": "python3"
  },
  "language_info": {
   "codemirror_mode": {
    "name": "ipython",
    "version": 3
   },
   "file_extension": ".py",
   "mimetype": "text/x-python",
   "name": "python",
   "nbconvert_exporter": "python",
   "pygments_lexer": "ipython3",
   "version": "3.11.5"
  }
 },
 "nbformat": 4,
 "nbformat_minor": 5
}
